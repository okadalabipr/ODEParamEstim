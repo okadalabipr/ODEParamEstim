{
 "cells": [
  {
   "cell_type": "markdown",
   "metadata": {},
   "source": [
    "## Model Simulation"
   ]
  },
  {
   "cell_type": "code",
   "execution_count": null,
   "metadata": {},
   "outputs": [],
   "source": [
    "%run -i runSim.py"
   ]
  },
  {
   "cell_type": "code",
   "execution_count": null,
   "metadata": {},
   "outputs": [],
   "source": [
    "plt.figure(figsize=(16,6))\n",
    "plt.rcParams['font.size'] = 24\n",
    "\n",
    "\n",
    "plt.subplot(1,2,1)\n",
    "plt.gca().spines['right'].set_visible(False)\n",
    "plt.gca().spines['top'].set_visible(False)\n",
    "plt.gca().yaxis.set_ticks_position('left')\n",
    "plt.gca().xaxis.set_ticks_position('bottom')\n",
    "plt.plot(ex_t,ex_nuclear_NFKB,'ko-')\n",
    "plt.xticks([0,30,60,90,120,150,180])\n",
    "plt.xlabel('Time (min)')\n",
    "plt.ylabel(r'NF-$\\kappa$B')\n",
    "plt.title('Experiment')\n",
    "\n",
    "plt.subplot(1,2,2)\n",
    "plt.gca().spines['right'].set_visible(False)\n",
    "plt.gca().spines['top'].set_visible(False)\n",
    "plt.gca().yaxis.set_ticks_position('left')\n",
    "plt.gca().xaxis.set_ticks_position('bottom')\n",
    "plt.plot(t,nuclear_NFKB,'k')\n",
    "plt.xticks([0,30,60,90,120,150,180])\n",
    "plt.xlabel('Time (min)')\n",
    "plt.title('Simulation')\n",
    "\n",
    "#plt.show()\n",
    "plt.savefig('./Figure/nuclear_NFKB.png',bbox_inches='tight')"
   ]
  }
 ],
 "metadata": {
  "kernelspec": {
   "display_name": "Python 3",
   "language": "python",
   "name": "python3"
  },
  "language_info": {
   "codemirror_mode": {
    "name": "ipython",
    "version": 3
   },
   "file_extension": ".py",
   "mimetype": "text/x-python",
   "name": "python",
   "nbconvert_exporter": "python",
   "pygments_lexer": "ipython3",
   "version": "3.6.6"
  }
 },
 "nbformat": 4,
 "nbformat_minor": 2
}
