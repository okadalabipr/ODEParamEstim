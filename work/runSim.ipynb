{
 "cells": [
  {
   "cell_type": "markdown",
   "metadata": {},
   "source": [
    "## Simulation"
   ]
  },
  {
   "cell_type": "code",
   "execution_count": null,
   "metadata": {},
   "outputs": [],
   "source": [
    "%run -i script/run_sim.py\n",
    "%matplotlib inline\n",
    "%config InlineBackend.figure_formats = {'png','retina'}\n",
    "\n",
    "\"\"\"=====================================\n",
    "    viz_type: 'best' or 'average'\n",
    "    show_all: bool\n",
    "    stdev: bool (viz_type >> 'average')\n",
    "========================================\"\"\"\n",
    "viz(viz_type='average',show_all=False,stdev=True)\n",
    "\n",
    "#plt.savefig('./Fig/simulation_average_std.png',bbox_inches='tight')\n",
    "plt.show()"
   ]
  }
 ],
 "metadata": {
  "@webio": {
   "lastCommId": "8f7265fdaf464f7280a6b8256debb989",
   "lastKernelId": "c48e174b-187a-4f4d-bb01-568ddfe29fed"
  },
  "kernelspec": {
   "display_name": "Python 3",
   "language": "python",
   "name": "python3"
  },
  "language_info": {
   "codemirror_mode": {
    "name": "ipython",
    "version": 3
   },
   "file_extension": ".py",
   "mimetype": "text/x-python",
   "name": "python",
   "nbconvert_exporter": "python",
   "pygments_lexer": "ipython3",
   "version": "3.7.3"
  }
 },
 "nbformat": 4,
 "nbformat_minor": 2
}
