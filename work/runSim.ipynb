{
 "cells": [
  {
   "cell_type": "markdown",
   "metadata": {},
   "source": [
    "## Simulation"
   ]
  },
  {
   "cell_type": "code",
   "execution_count": null,
   "metadata": {},
   "outputs": [],
   "source": [
    "%run -i script/run_sim.py\n",
    "%matplotlib inline\n",
    "%config InlineBackend.figure_formats = {'png','retina'}\n",
    "\n",
    "\"\"\"=================================================\n",
    "    viz_type: 'best', 'average' or int(1~n_fitparam)\n",
    "    show_all: bool\n",
    "    stdev: bool (viz_type >> 'average')\n",
    "====================================================\"\"\"\n",
    "viz(viz_type='average',show_all=False,stdev=True)\n",
    "\n",
    "#plt.savefig('./Fig/simulation_average_std.png',bbox_inches='tight')\n",
    "plt.show()"
   ]
  }
 ],
 "metadata": {
  "@webio": {
   "lastCommId": "8f7265fdaf464f7280a6b8256debb989",
   "lastKernelId": "c48e174b-187a-4f4d-bb01-568ddfe29fed"
  },
  "kernelspec": {
   "display_name": "Python 3",
   "language": "python",
   "name": "python3"
  }
 },
 "nbformat": 4,
 "nbformat_minor": 2
}
