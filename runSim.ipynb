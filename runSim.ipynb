{
 "cells": [
  {
   "cell_type": "markdown",
   "metadata": {},
   "source": [
    "## Visualization of Simulation Results"
   ]
  },
  {
   "cell_type": "markdown",
   "metadata": {},
   "source": [
    "**viz_type** : str\n",
    "\n",
    "- ```'average'``` : The average of simulation results with parameter sets in ```fitparam/```\n",
    "\n",
    "- ```'best'``` : The best simulation result in ```fitparam/```, simulation with ```best_fit_param```\n",
    "\n",
    "- ```'original'``` : Simulation with the default parameters and initial values defined in ```model/```\n",
    "\n",
    "- ```'n(=1,2,...)'``` : Use the parameter set in ```fitparam/n/```\n",
    "\n",
    "**show_all** : bool\n",
    "- Whether to show all simulation results.\n",
    "\n",
    "**stdev** : bool\n",
    "- If True, the standard deviation of simulated values will be shown (only when ```viz_type == 'average'```)."
   ]
  },
  {
   "cell_type": "code",
   "execution_count": null,
   "metadata": {},
   "outputs": [],
   "source": [
    "import os\n",
    "import warnings\n",
    "warnings.filterwarnings('ignore')\n",
    "\n",
    "if not os.path.isdir('./figure'):\n",
    "    os.mkdir('./figure')\n",
    "\n",
    "from param_estim import simulate_all\n",
    "\n",
    "simulate_all(viz_type='average',show_all=False,stdev=True)"
   ]
  }
 ],
 "metadata": {
  "@webio": {
   "lastCommId": null,
   "lastKernelId": null
  },
  "kernelspec": {
   "display_name": "Python 3",
   "language": "python",
   "name": "python3"
  },
  "language_info": {
   "codemirror_mode": {
    "name": "ipython",
    "version": 3
   },
   "file_extension": ".py",
   "mimetype": "text/x-python",
   "name": "python",
   "nbconvert_exporter": "python",
   "pygments_lexer": "ipython3",
   "version": "3.7.2"
  }
 },
 "nbformat": 4,
 "nbformat_minor": 2
}
