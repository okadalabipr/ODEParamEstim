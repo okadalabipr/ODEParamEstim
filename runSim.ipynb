{
 "cells": [
  {
   "cell_type": "code",
   "execution_count": null,
   "metadata": {},
   "outputs": [],
   "source": [
    "from param_estim.viz import visualize_simulations\n",
    "\n",
    "\"\"\"=============================================================\n",
    "    viz_type: 'best', 'average', 'original' or int(1~n_fitparam)\n",
    "    show_all: bool\n",
    "    stdev: bool (Only when viz_type == 'average')\n",
    "================================================================\"\"\"\n",
    "\n",
    "visualize_simulations(viz_type='average',show_all=False,stdev=True)"
   ]
  }
 ],
 "metadata": {
  "@webio": {
   "lastCommId": null,
   "lastKernelId": null
  },
  "kernelspec": {
   "display_name": "Python 3",
   "language": "python",
   "name": "python3"
  },
  "language_info": {
   "codemirror_mode": {
    "name": "ipython",
    "version": 3
   },
   "file_extension": ".py",
   "mimetype": "text/x-python",
   "name": "python",
   "nbconvert_exporter": "python",
   "pygments_lexer": "ipython3",
   "version": "3.7.0"
  }
 },
 "nbformat": 4,
 "nbformat_minor": 2
}
